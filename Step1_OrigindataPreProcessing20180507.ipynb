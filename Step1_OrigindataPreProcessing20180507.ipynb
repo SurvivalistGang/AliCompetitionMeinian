{
 "cells": [
  {
   "cell_type": "code",
   "execution_count": 3,
   "metadata": {},
   "outputs": [
    {
     "name": "stdout",
     "output_type": "stream",
     "text": [
      "\n",
      " part_1_2.shape: \n",
      " (8104368, 3)\n",
      "\n",
      " tmp.shape: \n",
      " (57298, 2795)\n"
     ]
    }
   ],
   "source": [
    "\n",
    "import pandas as pd\n",
    "\n",
    "# 重复数据的拼接\n",
    "def merge_table(df):\n",
    "    df['field_results'] = df['field_results'].astype(str)\n",
    "    if df.shape[0] > 1:\n",
    "        merge_df = \" \".join(list(df['field_results']))\n",
    "    else:\n",
    "        merge_df = df['field_results'].values[0]\n",
    "    return merge_df\n",
    "\n",
    "# 读取数据\n",
    "part_1 = pd.read_csv('meinian_round1_data_part1_20180408.txt',sep='$')\n",
    "part_2 = pd.read_csv('meinian_round1_data_part2_20180408.txt',sep='$')\n",
    "part_1_2 = pd.concat([part_1,part_2])\n",
    "part_1_2 = pd.DataFrame(part_1_2).sort_values('vid').reset_index(drop=True)\n",
    "\n",
    "\n",
    "\n",
    "# 数据简单处理\n",
    "\n",
    "print('\\n','part_1_2.shape:','\\n',\n",
    "      part_1_2.shape)\n",
    "is_happen = part_1_2.groupby(['vid','table_id']).size().reset_index()\n",
    "# 去掉重复数据\n",
    "is_happen['new_index'] = is_happen['vid'] + '_' + is_happen['table_id']\n",
    "is_happen_new = is_happen[is_happen[0]>1]['new_index']\n",
    "\n",
    "part_1_2['new_index'] = part_1_2['vid'] + '_' + part_1_2['table_id']\n",
    "\n",
    "unique_part = part_1_2[part_1_2['new_index'].isin(list(is_happen_new))]\n",
    "unique_part = unique_part.sort_values(['vid','table_id'])\n",
    "no_unique_part = part_1_2[~part_1_2['new_index'].isin(list(is_happen_new))]\n",
    "\n",
    "\n",
    "part_1_2_not_unique = unique_part.groupby(['vid','table_id']).apply(merge_table).reset_index()\n",
    "part_1_2_not_unique.rename(columns={0:'field_results'},inplace=True)\n",
    "\n",
    "tmp = pd.concat([part_1_2_not_unique,no_unique_part[['vid','table_id','field_results']]])\n",
    "# 行列转换\n",
    "\n",
    "tmp = tmp.pivot(index='vid',values='field_results',columns='table_id')\n",
    "tmp.to_csv('tmp20180507.csv')\n",
    "print('\\n','tmp.shape:','\\n',\n",
    "     tmp.shape)"
   ]
  },
  {
   "cell_type": "code",
   "execution_count": null,
   "metadata": {},
   "outputs": [],
   "source": []
  }
 ],
 "metadata": {
  "kernelspec": {
   "display_name": "Python 3",
   "language": "python",
   "name": "python3"
  },
  "language_info": {
   "codemirror_mode": {
    "name": "ipython",
    "version": 3
   },
   "file_extension": ".py",
   "mimetype": "text/x-python",
   "name": "python",
   "nbconvert_exporter": "python",
   "pygments_lexer": "ipython3",
   "version": "3.6.4"
  },
  "toc": {
   "base_numbering": 1,
   "nav_menu": {},
   "number_sections": true,
   "sideBar": true,
   "skip_h1_title": false,
   "title_cell": "Table of Contents",
   "title_sidebar": "Contents",
   "toc_cell": false,
   "toc_position": {},
   "toc_section_display": true,
   "toc_window_display": false
  }
 },
 "nbformat": 4,
 "nbformat_minor": 2
}
